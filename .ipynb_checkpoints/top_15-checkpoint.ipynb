{
 "cells": [
  {
   "cell_type": "code",
   "execution_count": 9,
   "metadata": {},
   "outputs": [
    {
     "name": "stdout",
     "output_type": "stream",
     "text": [
      "[nltk_data] Downloading package universal_tagset to\n",
      "[nltk_data]     /Users/Sherry/nltk_data...\n",
      "[nltk_data]   Unzipping taggers/universal_tagset.zip.\n"
     ]
    }
   ],
   "source": [
    "#IPython is what you are using now to run the notebook\n",
    "import IPython\n",
    "# Pandas makes working with data tables easier\n",
    "import pandas as pd\n",
    "import matplotlib.pyplot as plt\n",
    "\n",
    "import nltk as nltk\n",
    "nltk.download('universal_tagset')\n",
    "from sklearn import feature_extraction\n",
    "from nltk import NaiveBayesClassifier\n",
    "from nltk.tokenize import word_tokenize\n",
    "from itertools import chain\n",
    "from sklearn.feature_extraction.text import CountVectorizer\n",
    "from sklearn.model_selection import train_test_split"
   ]
  },
  {
   "cell_type": "code",
   "execution_count": 7,
   "metadata": {},
   "outputs": [],
   "source": [
    "# a function that get the top 15 words from each charactor and return a dictionary\n",
    "# where keys are character names and values are dictionaries with their top 15 words and its corresponding ids\n",
    "\n",
    "def top_words(data_topCast):\n",
    "    \n",
    "    office_list = ['Michael', 'Dwight', 'Jim', 'Pam', 'Oscar', 'Andy', 'Angela', 'Kevin', 'Erin']\n",
    "    office_dic = {}\n",
    "\n",
    "    for person in office_list:\n",
    "\n",
    "        # fetching data for one person\n",
    "        char_data = data_topCast[data_topCast[\"speaker\"] == person]\n",
    "        # char_sentiment = char_data[char_data[\"sentiment label\"] == \"neutral\"]\n",
    "        line = list(char_data.line_text) \n",
    "        index = list(char_data.id)\n",
    "\n",
    "        # creating a list of all line_text and id\n",
    "        line = list(zip(line, index))\n",
    "\n",
    "        # tokenize each word\n",
    "        char_vocabulary = set(chain(*[word_tokenize(str(i[0]).lower()) for i in line]))\n",
    "\n",
    "        # generating POS tag for all words\n",
    "        tag_char_vocabulary = nltk.pos_tag(char_vocabulary,tagset='universal')\n",
    "\n",
    "        # filtering out words we are not interested in\n",
    "        # stay_list = ['NN','NNS','NNP','NNPS','VB','VBG','VBD','VBN','VBP','VBZ']\n",
    "        stay_list = ['NOUN']\n",
    "        sub_char_vocabulary = []\n",
    "        for i in tag_char_vocabulary:\n",
    "            if i[1] in stay_list:\n",
    "                sub_char_vocabulary.append(i[0])\n",
    "\n",
    "        # create dictionary of sets to return \n",
    "        inverted_index = {}\n",
    "        for i in sub_char_vocabulary:\n",
    "            inverted_index[i] = set()\n",
    "\n",
    "        # loop through line and add index values to each set\n",
    "        for i in range(len(line)):\n",
    "            words = word_tokenize(str(line[i]).lower())\n",
    "            for j in words:\n",
    "                if j in inverted_index:\n",
    "                    inverted_index[j].add(i)        \n",
    "        # create a list of words with all ids\n",
    "        char_invert = inverted_index\n",
    "\n",
    "        # sort word list by the length of its indexs\n",
    "        sorted_char_list = sorted(char_invert, key=lambda k: len(char_invert[k]), reverse=True)\n",
    "        sorted_char_list[:15]\n",
    "\n",
    "        #print(person, sorted_char_list[:15])\n",
    "\n",
    "\n",
    "        # storing top 15 words for each character with its corresponding ids\n",
    "        char_list = {}\n",
    "        for i in sorted_char_list[:15]:\n",
    "            char_list[i] = char_invert[i]\n",
    "\n",
    "        # storing the top 15 words dictionary with the character to the overall dictionary\n",
    "        office_dic[person] = char_list\n",
    "    return office_dic    "
   ]
  },
  {
   "cell_type": "code",
   "execution_count": 12,
   "metadata": {},
   "outputs": [],
   "source": [
    "topWords = top_words()"
   ]
  },
  {
   "cell_type": "code",
   "execution_count": 15,
   "metadata": {},
   "outputs": [
    {
     "data": {
      "text/plain": [
       "set"
      ]
     },
     "execution_count": 15,
     "metadata": {},
     "output_type": "execute_result"
    }
   ],
   "source": [
    "type(topWords[\"Andy\"][\"erin\"])"
   ]
  },
  {
   "cell_type": "code",
   "execution_count": null,
   "metadata": {},
   "outputs": [],
   "source": []
  }
 ],
 "metadata": {
  "kernelspec": {
   "display_name": "Python 3",
   "language": "python",
   "name": "python3"
  },
  "language_info": {
   "codemirror_mode": {
    "name": "ipython",
    "version": 3
   },
   "file_extension": ".py",
   "mimetype": "text/x-python",
   "name": "python",
   "nbconvert_exporter": "python",
   "pygments_lexer": "ipython3",
   "version": "3.6.4"
  }
 },
 "nbformat": 4,
 "nbformat_minor": 2
}
